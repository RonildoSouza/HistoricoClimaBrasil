{
 "cells": [
  {
   "cell_type": "code",
   "execution_count": 2,
   "metadata": {},
   "outputs": [
    {
     "name": "stdout",
     "output_type": "stream",
     "text": [
      "SPARK: note_rns - 192.168.18.118\n",
      "MINIO: 192.168.18.118\n"
     ]
    }
   ],
   "source": [
    "import socket\n",
    "from pyspark.sql import SparkSession\n",
    "\n",
    "spark_hostname = socket.gethostname()\n",
    "spark_ip_address = socket.gethostbyname(spark_hostname)\n",
    "minio_ip_address = spark_ip_address\n",
    "\n",
    "## DEFINIDO O MESMO IP POIS OS SERVIÇOS VÃO EXECUTAR NO MESMO SERVIDOR\n",
    "print(f\"SPARK: {spark_hostname} - {spark_ip_address}\")\n",
    "print(f\"MINIO: {minio_ip_address}\")\n",
    "\n",
    "extra_packages = \"io.delta:delta-core_2.12:2.1.1,com.amazonaws:aws-java-sdk-bundle:1.12.469,org.apache.hadoop:hadoop-aws:3.3.4\"\n",
    "\n",
    "\n",
    "spark = (\n",
    "    SparkSession.builder\n",
    "    .config(\"spark.jars.packages\", extra_packages)\n",
    "\n",
    "    # CONFIGURA EXTENSÃO DO DELTA\n",
    "    .config(\"spark.sql.extensions\", \"io.delta.sql.DeltaSparkSessionExtension\")\n",
    "    .config(\"spark.sql.catalog.spark_catalog\", \"org.apache.spark.sql.delta.catalog.DeltaCatalog\")\n",
    "\n",
    "    # LIMITA USO DE CORE E MEMORIA POR EXECUTOR\n",
    "    .config(\"spark.cores.max\", \"1\")\n",
    "    .config(\"spark.executor.memory\", \"2g\")\n",
    "\n",
    "    # CONFIGURAÇÃO PARA COMUNICAR COM PROTOCOLO S3\n",
    "    .config(\"spark.driver.bindAddress\", f\"{spark_hostname}\")\n",
    "    .config(\"spark.driver.host\", f\"{spark_ip_address}\")\n",
    "    .config(\"spark.hadoop.fs.s3a.access.key\", \"minio\")\n",
    "    .config(\"spark.hadoop.fs.s3a.secret.key\", \"minio123\")\n",
    "    .config(\"spark.hadoop.fs.s3a.impl\", \"org.apache.hadoop.fs.s3a.S3AFileSystem\")\n",
    "    .config(\"spark.hadoop.fs.s3a.endpoint\", f\"http://{minio_ip_address}:9000\")\n",
    "    .config(\"spark.hadoop.fs.s3a.path.style.access\", \"true\")\n",
    "    .config(\"spark.hadoop.fs.s3a.connection.ssl.enabled\", \"false\")\n",
    "\n",
    "    # CRIA SESSÃO DO SPARK\n",
    "    # .master(f\"spark://{spark_ip_address}:7077\")\n",
    "    .appName(\"rascunho\")\n",
    "    .getOrCreate()\n",
    ")\n",
    "\n",
    "# hadoop_base_path = os.getenv(\"HADOOP_HOME\").replace(\"\\\\\", \"/\")\n",
    "# hadoop_config = spark.sparkContext._jsc.hadoopConfiguration()\n",
    "# hadoop_config.set(\"driver.extraClassPath\", f\"{hadoop_base_path}/lib/native/hadoop-aws-3.3.1.jar:{hadoop_base_path}/lib/native/aws-java-sdk-1.12.153\")\n",
    "\n",
    "# for key, value in [(k.replace(\"spark.hadoop.\", \"\"), v) for k, v in spark.sparkContext.getConf().getAll() if k.find(\"hadoop\") != -1]:\n",
    "#     hadoop_config.set(key, value)"
   ]
  },
  {
   "cell_type": "code",
   "execution_count": 3,
   "metadata": {},
   "outputs": [
    {
     "name": "stdout",
     "output_type": "stream",
     "text": [
      "root\n",
      " |-- codigo_uf: long (nullable = true)\n",
      " |-- uf: string (nullable = true)\n",
      " |-- nome: string (nullable = true)\n",
      " |-- latitude: float (nullable = true)\n",
      " |-- longitude: float (nullable = true)\n",
      " |-- regiao: string (nullable = true)\n",
      "\n"
     ]
    }
   ],
   "source": [
    "estados = spark.read.csv(\n",
    "    path=\"s3a://datalake/raw/municipios_brasileiros/estados.csv\", \n",
    "    schema=\"codigo_uf LONG, uf STRING, nome STRING, latitude FLOAT, longitude FLOAT, regiao STRING\",\n",
    "    header=True\n",
    ")\n",
    "\n",
    "estados.printSchema()"
   ]
  },
  {
   "cell_type": "code",
   "execution_count": null,
   "metadata": {},
   "outputs": [],
   "source": [
    "estados.show(truncate=False)"
   ]
  },
  {
   "cell_type": "code",
   "execution_count": 4,
   "metadata": {},
   "outputs": [
    {
     "name": "stdout",
     "output_type": "stream",
     "text": [
      "root\n",
      " |-- codigo_ibge: long (nullable = true)\n",
      " |-- nome: string (nullable = true)\n",
      " |-- latitude: float (nullable = true)\n",
      " |-- longitude: float (nullable = true)\n",
      " |-- capital: integer (nullable = true)\n",
      " |-- codigo_uf: long (nullable = true)\n",
      "\n"
     ]
    }
   ],
   "source": [
    "municipios = spark.read.csv(\n",
    "    path=\"s3a://datalake/raw/municipios_brasileiros/municipios.csv\", \n",
    "    schema=\"codigo_ibge LONG, nome STRING, latitude FLOAT, longitude FLOAT, capital INT, codigo_uf LONG\",\n",
    "    # schema=\"codigo_ibge LONG, nome STRING, latitude FLOAT, longitude FLOAT, capital INT, codigo_uf LONG, siafi_id LONG, ddd LONG, fuso_horario STRING\",\n",
    "    header=True\n",
    ")\n",
    "\n",
    "municipios.printSchema()"
   ]
  },
  {
   "cell_type": "code",
   "execution_count": null,
   "metadata": {},
   "outputs": [],
   "source": [
    "municipios.show(truncate=False)"
   ]
  },
  {
   "cell_type": "code",
   "execution_count": 12,
   "metadata": {},
   "outputs": [
    {
     "name": "stdout",
     "output_type": "stream",
     "text": [
      "+-----------+-----------------------+--------+---------+---------+---+------------------+------------+-----------------------+\n",
      "|codigo_ibge|nome                   |latitude|longitude|e_capital|uf |nome_estado       |regiao      |gerado_em              |\n",
      "+-----------+-----------------------+--------+---------+---------+---+------------------+------------+-----------------------+\n",
      "|3102902    |Antônio Carlos         |-21.321 |-43.7451 |false    |MG |Minas Gerais      |Sudeste     |2023-05-28 18:22:23.337|\n",
      "|4301057    |Arroio do Sal          |-29.5439|-49.8895 |false    |RS |Rio Grande do Sul |Sul         |2023-05-28 18:22:23.337|\n",
      "|4302220    |Boa Vista do Cadeado   |-28.5791|-53.8108 |false    |RS |Rio Grande do Sul |Sul         |2023-05-28 18:22:23.337|\n",
      "|2201960    |Brasileira             |-4.1337 |-41.7859 |false    |PI |Piauí             |Nordeste    |2023-05-28 18:22:23.337|\n",
      "|5203939    |Buriti de Goiás        |-16.1792|-50.4302 |false    |GO |Goiás             |Centro-Oeste|2023-05-28 18:22:23.337|\n",
      "|2603702    |Canhotinho             |-8.87652|-36.1979 |false    |PE |Pernambuco        |Nordeste    |2023-05-28 18:22:23.337|\n",
      "|5102850    |Castanheira            |-11.1251|-58.6081 |false    |MT |Mato Grosso       |Centro-Oeste|2023-05-28 18:22:23.337|\n",
      "|3511607    |Cesário Lange          |-23.226 |-47.9545 |false    |SP |São Paulo         |Sudeste     |2023-05-28 18:22:23.337|\n",
      "|2504603    |Conde                  |-7.25746|-34.8999 |false    |PB |Paraíba           |Nordeste    |2023-05-28 18:22:23.337|\n",
      "|1301506    |Envira                 |-7.43789|-70.0281 |false    |AM |Amazonas          |Norte       |2023-05-28 18:22:23.337|\n",
      "|2104305    |Godofredo Viana        |-1.40259|-45.7795 |false    |MA |Maranhão          |Nordeste    |2023-05-28 18:22:23.337|\n",
      "|3517703    |Guará                  |-20.4302|-47.8236 |false    |SP |São Paulo         |Sudeste     |2023-05-28 18:22:23.337|\n",
      "|5004106    |Guia Lopes da Laguna   |-21.4583|-56.1117 |false    |MS |Mato Grosso do Sul|Centro-Oeste|2023-05-28 18:22:23.337|\n",
      "|3519303    |Ibaté                  |-21.9584|-47.9882 |false    |SP |São Paulo         |Sudeste     |2023-05-28 18:22:23.337|\n",
      "|3521150    |Ipiguá                 |-20.6557|-49.3842 |false    |SP |São Paulo         |Sudeste     |2023-05-28 18:22:23.337|\n",
      "|2508208    |Lagoa de Dentro        |-6.67213|-35.3706 |false    |PB |Paraíba           |Nordeste    |2023-05-28 18:22:23.337|\n",
      "|3142601    |Monsenhor Paulo        |-21.7579|-45.5391 |false    |MG |Minas Gerais      |Sudeste     |2023-05-28 18:22:23.337|\n",
      "|4116703    |Nova Aurora            |-24.5289|-53.2575 |false    |PR |Paraná            |Sul         |2023-05-28 18:22:23.337|\n",
      "|2107357    |Nova Olinda do Maranhão|-2.84227|-45.6953 |false    |MA |Maranhão          |Nordeste    |2023-05-28 18:22:23.337|\n",
      "|4313508    |Osório                 |-29.8881|-50.2667 |false    |RS |Rio Grande do Sul |Sul         |2023-05-28 18:22:23.337|\n",
      "+-----------+-----------------------+--------+---------+---------+---+------------------+------------+-----------------------+\n",
      "only showing top 20 rows\n",
      "\n"
     ]
    }
   ],
   "source": [
    "df = (\n",
    "    municipios.alias(\"m\").join(\n",
    "        other=estados.alias(\"e\"),\n",
    "        on=(municipios.codigo_uf == estados.codigo_uf),\n",
    "        how=\"inner\"\n",
    "    )\n",
    "    .selectExpr([\n",
    "        \"m.codigo_ibge\",\n",
    "        \"m.nome\",\n",
    "        \"m.latitude\",\n",
    "        \"m.longitude\",\n",
    "        \"(m.capital == 1) AS e_capital\",\n",
    "        \"e.uf\",\n",
    "        \"e.nome AS nome_estado\",\n",
    "        \"e.regiao\",\n",
    "        \"current_timestamp() AS gerado_em\",\n",
    "    ])\n",
    "    .distinct()\n",
    ")\n",
    "\n",
    "df.show(truncate=False)"
   ]
  },
  {
   "cell_type": "code",
   "execution_count": 14,
   "metadata": {},
   "outputs": [],
   "source": [
    "# df.repartition(1).write.parquet(\"s3a://datalake/trusted/municipios_brasileiros\")\n",
    "(\n",
    "    df.write\n",
    "    .option(\"overwriteSchema\", \"true\")\n",
    "    .format(\"delta\")\n",
    "    .mode(\"overwrite\")\n",
    "    .save(\"s3a://datalake/trusted/municipios_brasileiros\")\n",
    ")"
   ]
  },
  {
   "attachments": {},
   "cell_type": "markdown",
   "metadata": {},
   "source": [
    "# SALVE REFINED"
   ]
  },
  {
   "cell_type": "code",
   "execution_count": 15,
   "metadata": {},
   "outputs": [],
   "source": [
    "df = spark.read.load(\n",
    "    path=\"s3a://datalake/trusted/municipios_brasileiros\",\n",
    "    format=\"delta\"\n",
    ")\n",
    "\n",
    "(\n",
    "    df.write\n",
    "    .option(\"overwriteSchema\", \"true\")\n",
    "    .format(\"delta\")\n",
    "    .mode(\"overwrite\")\n",
    "    .save(\"s3a://datalake/refined/municipios_brasileiros\")\n",
    ")"
   ]
  }
 ],
 "metadata": {
  "kernelspec": {
   "display_name": "Python 3",
   "language": "python",
   "name": "python3"
  },
  "language_info": {
   "codemirror_mode": {
    "name": "ipython",
    "version": 3
   },
   "file_extension": ".py",
   "mimetype": "text/x-python",
   "name": "python",
   "nbconvert_exporter": "python",
   "pygments_lexer": "ipython3",
   "version": "3.7.9"
  },
  "orig_nbformat": 4
 },
 "nbformat": 4,
 "nbformat_minor": 2
}
